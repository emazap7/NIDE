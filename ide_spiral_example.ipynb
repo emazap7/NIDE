{
 "cells": [
  {
   "cell_type": "code",
   "execution_count": null,
   "id": "796db411",
   "metadata": {},
   "outputs": [],
   "source": [
    "#General libraries\n",
    "import os, argparse\n",
    "import pickle\n",
    "import numpy as np\n",
    "\n",
    "#Torch libraries\n",
    "import torch \n",
    "\n",
    "#Custom libraries\n",
    "from utils_ide import Train_val_split, Dynamics_Dataset, Test_Dynamics_Dataset\n",
    "from utils_ide import fix_random_seeds,to_np\n",
    "from source.ide_func import NNIDEF, NeuralIDE, NNIDEF_wODE, NeuralIDE_wODE\n",
    "import source.kernels as kernels\n",
    "from source.experiments import Full_experiment, IDE_spiral_experiment_no_adjoint\n",
    "from torch.utils.data import SubsetRandomSampler\n",
    "\n",
    "if torch.cuda.is_available():  \n",
    "    device = \"cuda:0\" \n",
    "else:  \n",
    "    device = \"cpu\"\n",
    "    \n",
    "\n",
    "parser = argparse.ArgumentParser(description='Neural IDE')\n",
    "parser.add_argument('-root_path', metavar='DIR', default='',\n",
    "                    help='path to dataset')\n",
    "parser.add_argument('-dataset-name', default='stl10',\n",
    "                    help='dataset name', choices=['acrobot_dataset'])\n",
    "\n",
    "parser.add_argument('-j', '--workers', default=12, type=int, metavar='N',\n",
    "                    help='number of data loading workers (default: 32)')\n",
    "parser.add_argument('--epochs', default=5000, type=int, metavar='N',\n",
    "                    help='number of total epochs to run')\n",
    "parser.add_argument('-b', '--batch_size', default=20, type=int,\n",
    "                    metavar='N',\n",
    "                    help='mini-batch size (default: 256), this is the total '\n",
    "                         'batch size of all GPUs on the current node when '\n",
    "                         'using Data Parallel or Distributed Data Parallel')\n",
    "parser.add_argument('--lr', '--learning-rate', default=1e-3, type=float,\n",
    "                    metavar='LR', help='initial learning rate', dest='lr')\n",
    "parser.add_argument('--wd', '--weight-decay', default=1e-3, type=float,\n",
    "                    metavar='W', help='weight decay (default: 1e-3)',\n",
    "                    dest='weight_decay')\n",
    "parser.add_argument('--seed', default=None, type=int,\n",
    "                    help='seed for initializing training. ')\n",
    "parser.add_argument('--disable-cuda', action='store_true',\n",
    "                    help='Disable CUDA')\n",
    "parser.add_argument('--fp16-precision', action='store_true',\n",
    "                    help='Whether or not to use 16-bit precision GPU training.')\n",
    "\n",
    "parser.add_argument('--out_dim', default=128, type=int,\n",
    "                    help='feature dimension (default: 128)')\n",
    "parser.add_argument('--log-every-n-steps', default=100, type=int,\n",
    "                    help='Log every n steps')\n",
    "parser.add_argument('--temperature', default=0.07, type=float,\n",
    "                    help='softmax temperature (default: 0.07)')\n",
    "parser.add_argument('--n-views', default=2, type=int, metavar='N',\n",
    "                    help='Number of views for contrastive learning training.')\n",
    "parser.add_argument('--gpu-index', default=0, type=int, help='Gpu index.')\n",
    "parser.add_argument('--model', default='simclr', choices=['simclr','lipschitz_simclr','vae','gan'], \n",
    "                    help='Models to be used')\n",
    "parser.add_argument('--mode', default='train', choices=['train','evaluate'], \n",
    "                    help='Set to ''evaluate'' if inference is desired')\n",
    "parser.add_argument('--training_split', default=0.25,type=float, \n",
    "                    help='Fraction of the samples that will be used for validation')\n",
    "parser.add_argument('--resume_from_checkpoint', default=None, \n",
    "                    help='Give string to run number. Ex: \"run12\"')\n",
    "parser.add_argument('--plot_freq', default=1, type=int,help='')\n",
    "parser.add_argument('--experiment_name', default=None,help='')\n"
   ]
  },
  {
   "cell_type": "code",
   "execution_count": null,
   "id": "fa3c193b",
   "metadata": {},
   "outputs": [],
   "source": [
    "from source.solver import IDESolver_monoidal\n",
    "import matplotlib.pyplot as plt\n",
    "import pickle"
   ]
  },
  {
   "cell_type": "code",
   "execution_count": null,
   "id": "66c5185b",
   "metadata": {},
   "outputs": [],
   "source": [
    "torch.cuda.device_count()"
   ]
  },
  {
   "cell_type": "code",
   "execution_count": null,
   "id": "8346a9cd",
   "metadata": {},
   "outputs": [],
   "source": [
    "if torch.cuda.is_available():  \n",
    "  dev = \"cuda:0\" \n",
    "else:  \n",
    "  dev = \"cpu\"\n",
    "device = torch.device(dev)"
   ]
  },
  {
   "cell_type": "code",
   "execution_count": null,
   "id": "d1527eef",
   "metadata": {},
   "outputs": [],
   "source": [
    "args = parser.parse_args(\"\")\n",
    "args.model='nide' #'simclr', \n",
    "args.mode='train'\n",
    "#args.mode = 'evaluate'\n",
    "args.dataset_name = 'ide_spiral'\n",
    "args.seed = 1\n",
    "args.batch_size = 5 #batch size \n",
    "args.experiment_name = 'ide_spiral_nide_1'\n",
    "args.plot_freq = 1\n",
    "args.device = device\n",
    "args.num_dim_plot = 2\n",
    "args.lr = 1e-3\n",
    "args.min_lr=1e-12\n",
    "args.T_max = 51\n",
    "args.plat_patience = 10\n",
    "args.factor = 0.1\n",
    "args.train_split = 0.2\n",
    "# args.temperature=0.001\n",
    "#args.lr_scheduler = 'ReduceLROnPlateau'\n",
    "args.lr_scheduler = 'CosineAnnealingLR'\n",
    "#args.resume_from_checkpoint = 'run149'\n",
    "fix_random_seeds(args.seed)\n",
    "args.number_MC_samplings = 1000\n",
    "args.warmup = 11"
   ]
  },
  {
   "cell_type": "code",
   "execution_count": null,
   "id": "906023e1",
   "metadata": {},
   "outputs": [],
   "source": []
  },
  {
   "cell_type": "code",
   "execution_count": null,
   "id": "9473da99",
   "metadata": {},
   "outputs": [],
   "source": [
    "t_max = 1 \n",
    "t_min = 0\n",
    "n_points = 20\n",
    "\n",
    "index_np = np.arange(0, n_points, 1, dtype=int)\n",
    "index_np = np.hstack(index_np[:, None])\n",
    "times_np = np.linspace(t_min, t_max, num=n_points)\n",
    "times_np = np.hstack([times_np[:, None]])\n",
    "# print('times_np: ',times_np)\n",
    "\n",
    "###########################################################\n",
    "times = torch.from_numpy(times_np[:, :, None]).to(device)\n",
    "times = times.flatten().float()\n",
    "# print('times :',times)\n",
    "###########################################################"
   ]
  },
  {
   "cell_type": "code",
   "execution_count": null,
   "id": "0d62eeaa",
   "metadata": {},
   "outputs": [],
   "source": [
    "Data = pickle.load(open( \"50_IE_Spirals.pkl\", \"rb\" ))\n",
    "print(Data.shape)"
   ]
  },
  {
   "cell_type": "code",
   "execution_count": null,
   "id": "4abc226d",
   "metadata": {},
   "outputs": [],
   "source": []
  },
  {
   "cell_type": "code",
   "execution_count": null,
   "id": "2df83fe3",
   "metadata": {},
   "outputs": [],
   "source": [
    "Data = Data - Data.mean(1,keepdim=True) #Normalization step\n",
    "scaling_factor = to_np(Data).max()\n",
    "print('scaling_factor: ',scaling_factor)\n",
    "\n",
    "Data = Data/scaling_factor\n",
    "if args.mode == 'train':\n",
    "    Data = Data[:450,...]\n",
    "else:\n",
    "    Data = Data[450:,...]"
   ]
  },
  {
   "cell_type": "code",
   "execution_count": null,
   "id": "d562010b",
   "metadata": {},
   "outputs": [],
   "source": []
  },
  {
   "cell_type": "code",
   "execution_count": null,
   "id": "efba16bd",
   "metadata": {},
   "outputs": [],
   "source": [
    "ids = np.tile(np.linspace(0,Data.shape[1]-1,num=n_points, dtype=np.int64),(Data.shape[1],1))"
   ]
  },
  {
   "cell_type": "code",
   "execution_count": null,
   "id": "73c24ed2",
   "metadata": {},
   "outputs": [],
   "source": [
    "ids[0]"
   ]
  },
  {
   "cell_type": "code",
   "execution_count": null,
   "id": "04ca0a3e",
   "metadata": {},
   "outputs": [],
   "source": [
    "Data = Data[:,ids[0],:]"
   ]
  },
  {
   "cell_type": "code",
   "execution_count": null,
   "id": "48d617b2",
   "metadata": {},
   "outputs": [],
   "source": [
    "Data.shape"
   ]
  },
  {
   "cell_type": "code",
   "execution_count": null,
   "id": "bf13e692",
   "metadata": {},
   "outputs": [],
   "source": []
  },
  {
   "cell_type": "code",
   "execution_count": null,
   "id": "a2039c33",
   "metadata": {},
   "outputs": [],
   "source": [
    "from torch import nn\n",
    "class NN_feedforward(nn.Module):\n",
    "    def __init__(self, in_dim, hid_dim,out_dim):\n",
    "        super(NN_feedforward, self).__init__()\n",
    "\n",
    "        self.lin1 = nn.Linear(in_dim, hid_dim)\n",
    "        self.lin2 = nn.Linear(hid_dim, hid_dim)\n",
    "        self.lin3 = nn.Linear(hid_dim, hid_dim)\n",
    "        self.lin4 = nn.Linear(hid_dim, out_dim)\n",
    "        self.ELU = nn.ELU(inplace=True)\n",
    "        \n",
    "        self.in_dim = in_dim\n",
    "\n",
    "    def forward(self,y):\n",
    "        y_in = y.to(args.device)\n",
    "        \n",
    "        h = self.ELU(self.lin1(y_in))\n",
    "        h = self.ELU(self.lin2(h))\n",
    "        h = self.ELU(self.lin3(h))\n",
    "        out = self.lin4(h)\n",
    "        \n",
    "        return out"
   ]
  },
  {
   "cell_type": "code",
   "execution_count": null,
   "id": "7f41b58e",
   "metadata": {},
   "outputs": [],
   "source": [
    "class Simple_NN(nn.Module):\n",
    "    def __init__(self, in_dim, hid_dim,out_dim):\n",
    "        super(Simple_NN, self).__init__()\n",
    "\n",
    "        self.lin1 = nn.Linear(in_dim+1, hid_dim)\n",
    "        self.lin2 = nn.Linear(hid_dim, hid_dim)\n",
    "        self.lin3 = nn.Linear(hid_dim, hid_dim)\n",
    "        self.lin4 = nn.Linear(hid_dim, out_dim)\n",
    "        self.ELU = nn.ELU(inplace=True)\n",
    "        \n",
    "        self.in_dim = in_dim\n",
    "\n",
    "    def forward(self,x,y):\n",
    "        y = y.to(device)\n",
    "        x = x.view(1,1).repeat(y.shape[0],1).to(device)\n",
    "        \n",
    "        y_in = torch.cat([x,y],-1)\n",
    "        h = self.ELU(self.lin1(y_in))\n",
    "        h = self.ELU(self.lin2(h))\n",
    "        h = self.ELU(self.lin3(h))\n",
    "        out = self.lin4(h)\n",
    "        \n",
    "        return out"
   ]
  },
  {
   "cell_type": "code",
   "execution_count": null,
   "id": "64dd4f81",
   "metadata": {
    "scrolled": true
   },
   "outputs": [],
   "source": [
    "\n",
    "n_steps = 10000 #number of iterations for training. default=3k epochs\n",
    "print('Data.shape: ',Data.shape)\n",
    "\n",
    "\n",
    "train_split = int(Data.shape[0]*args.train_split)\n",
    "\n",
    "Dataset_train = Dynamics_Dataset(Data[:-train_split,...],times)\n",
    "Dataset_val = Dynamics_Dataset(Data[-train_split:,...],times)\n",
    "Dataset_all = Dynamics_Dataset(Data,times)\n",
    "\n",
    "\n",
    "dataloaders = {'train': torch.utils.data.DataLoader(Dataset_train, batch_size = args.batch_size),\n",
    "               'val': torch.utils.data.DataLoader(Dataset_val, batch_size = args.batch_size),\n",
    "               'test': torch.utils.data.DataLoader(Dataset_all, batch_size = args.batch_size),\n",
    "              }\n",
    "\n",
    "\n",
    "nn_kernel = kernels.kernel_NN_nbatch(Data.shape[-1], Data.shape[-1],[64,128,256,512,256,128,64])\n",
    "ker = nn_kernel.to(device)\n",
    "F_func = NN_feedforward(2,256,2).to(device)\n",
    "ode_func = Simple_NN(2,256,2).to(device)\n",
    "\n",
    "\n",
    "kernel_type_nn = True\n",
    "ode_nn = True\n"
   ]
  },
  {
   "cell_type": "code",
   "execution_count": null,
   "id": "616ff8b9",
   "metadata": {},
   "outputs": [],
   "source": [
    "import matplotlib.pyplot as plt\n",
    "Data_print = to_np(Data)\n",
    "plt.scatter(Data_print[0,:,0],Data_print[0,:,1],label='Original Data',s=10)"
   ]
  },
  {
   "cell_type": "code",
   "execution_count": null,
   "id": "cda1a3ad",
   "metadata": {},
   "outputs": [],
   "source": [
    "kernels.flatten_kernel_parameters(ker).size()"
   ]
  },
  {
   "cell_type": "code",
   "execution_count": null,
   "id": "6777dec7",
   "metadata": {},
   "outputs": [],
   "source": [
    "kernels.flatten_F_parameters(F_func).size()"
   ]
  },
  {
   "cell_type": "code",
   "execution_count": null,
   "id": "8f6b2437",
   "metadata": {},
   "outputs": [],
   "source": [
    "kernels.flatten_F_parameters(ode_func).size()"
   ]
  },
  {
   "cell_type": "code",
   "execution_count": null,
   "id": "68ae910e",
   "metadata": {},
   "outputs": [],
   "source": []
  },
  {
   "cell_type": "code",
   "execution_count": null,
   "id": "a753a764",
   "metadata": {},
   "outputs": [],
   "source": [
    "args.alpha = lambda x: torch.Tensor([0]).to(args.device)\n",
    "args.beta = lambda x: x.to(args.device)"
   ]
  },
  {
   "cell_type": "code",
   "execution_count": null,
   "id": "e7edd3df",
   "metadata": {},
   "outputs": [],
   "source": []
  },
  {
   "cell_type": "code",
   "execution_count": null,
   "id": "a9416399",
   "metadata": {},
   "outputs": [],
   "source": []
  },
  {
   "cell_type": "code",
   "execution_count": null,
   "id": "769ec89e",
   "metadata": {},
   "outputs": [],
   "source": []
  },
  {
   "cell_type": "code",
   "execution_count": null,
   "id": "8f1b47e5",
   "metadata": {
    "scrolled": true
   },
   "outputs": [],
   "source": [
    "IDE_spiral_experiment_no_adjoint(ker, F_func, ode_func, Data, \n",
    "                                dataloaders, times, ode_nn, \n",
    "                                 None, args\n",
    "                                 )"
   ]
  },
  {
   "cell_type": "code",
   "execution_count": null,
   "id": "4cfe3cd7",
   "metadata": {},
   "outputs": [],
   "source": []
  },
  {
   "cell_type": "code",
   "execution_count": null,
   "id": "fa02fe53",
   "metadata": {},
   "outputs": [],
   "source": []
  },
  {
   "cell_type": "code",
   "execution_count": null,
   "id": "f54f593e",
   "metadata": {},
   "outputs": [],
   "source": []
  },
  {
   "cell_type": "code",
   "execution_count": null,
   "id": "bc84a932",
   "metadata": {},
   "outputs": [],
   "source": []
  }
 ],
 "metadata": {
  "kernelspec": {
   "display_name": "Python 3 (ipykernel)",
   "language": "python",
   "name": "python3"
  },
  "language_info": {
   "codemirror_mode": {
    "name": "ipython",
    "version": 3
   },
   "file_extension": ".py",
   "mimetype": "text/x-python",
   "name": "python",
   "nbconvert_exporter": "python",
   "pygments_lexer": "ipython3",
   "version": "3.10.4"
  }
 },
 "nbformat": 4,
 "nbformat_minor": 5
}
